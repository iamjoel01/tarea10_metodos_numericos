{
 "cells": [
  {
   "cell_type": "raw",
   "id": "9384073d-3711-4d03-88fe-76ea74c9212a",
   "metadata": {},
   "source": [
    "---\n",
    "title: \"Escuela Politécnica Nacional\"  \n",
    "subtitle: \"Metodos Numericos - Ejercicios Unidad 04-C | Descomposición LU\"\n",
    "author: \"Quilumba Morocho Joel Patricio \"\n",
    "date: \"2024-07-28\"\n",
    "format:\n",
    "  pdf:\n",
    "    toc: True\n",
    "    number-sections: true\n",
    "    colorlinks: true\n",
    "    lang: \"es\"\n",
    "---"
   ]
  },
  {
   "cell_type": "markdown",
   "id": "ce5a32e6-a121-48be-bc29-d34b23814088",
   "metadata": {},
   "source": [
    "[Link del Repositorio de Github de la Tarea 10 - Joel Quilumba](https://github.com/iamjoel01/tarea10_metodos_numericos)"
   ]
  },
  {
   "cell_type": "markdown",
   "id": "f1603ab2-4267-4d46-98ee-2a0f0e884868",
   "metadata": {},
   "source": [
    "‎   \n",
    "‎   \n",
    "‎   \n",
    "‎   \n",
    "‎   \n",
    "‎   \n",
    "‎   \n",
    "‎   "
   ]
  },
  {
   "cell_type": "markdown",
   "id": "8906f8e4-9755-4b52-9d49-5ade642c4491",
   "metadata": {},
   "source": [
    "‎   \n",
    "‎   \n",
    "‎   \n",
    "‎   \n",
    "‎   \n"
   ]
  },
  {
   "cell_type": "markdown",
   "id": "3fed3b46-699b-40d8-891d-9ceb9ef97e6a",
   "metadata": {},
   "source": [
    "# CONJUNTO DE EJERCICIOS"
   ]
  },
  {
   "cell_type": "markdown",
   "id": "8c7c5ceb-756f-47c3-990c-01aef9f1f664",
   "metadata": {},
   "source": [
    "## Pregunta 1\n",
    "**Realice las siguientes multiplicaciones matriz-matriz:**"
   ]
  },
  {
   "cell_type": "code",
   "execution_count": 2,
   "id": "20738e55-6434-4de0-a994-625944a5599e",
   "metadata": {},
   "outputs": [],
   "source": [
    "def multiply_matrices(A, B):\n",
    "    if len(A[0]) != len(B):\n",
    "        raise ValueError(\"Número de columnas de A debe ser igual al número de filas de B\")\n",
    "    result = [[0 for _ in range(len(B[0]))] for _ in range(len(A))]\n",
    "    for i in range(len(A)):\n",
    "        for j in range(len(B[0])):\n",
    "            for k in range(len(B)):\n",
    "                result[i][j] += A[i][k] * B[k][j]\n",
    "    return result\n"
   ]
  },
  {
   "cell_type": "markdown",
   "id": "9fcf2821-aa7b-4143-b571-1c3d8840cfbd",
   "metadata": {},
   "source": [
    "a.\n",
    "$$\n",
    "\\begin{pmatrix}\n",
    "2 & -3 \\\\\n",
    "3 & -1\n",
    "\\end{pmatrix}\n",
    "$$\n",
    "$$\n",
    "\\begin{pmatrix}\n",
    "1 & 5 \\\\\n",
    "2 & 0\n",
    "\\end{pmatrix}\n",
    "$$"
   ]
  },
  {
   "cell_type": "code",
   "execution_count": 4,
   "id": "db85312d-15ca-4d49-bda2-2436b9e552ea",
   "metadata": {},
   "outputs": [
    {
     "name": "stdout",
     "output_type": "stream",
     "text": [
      "Resultado de a:\n",
      "[-4, 10]\n",
      "[1, 15]\n"
     ]
    }
   ],
   "source": [
    "A1 = [\n",
    "    [2, -3],\n",
    "    [3, -1]\n",
    "]\n",
    "\n",
    "B1 = [\n",
    "    [1, 5],\n",
    "    [2, 0]\n",
    "]\n",
    "result1 = multiply_matrices(A1, B1)\n",
    "print(\"Resultado de a:\")\n",
    "for fila in result1:\n",
    "    print(fila)"
   ]
  },
  {
   "cell_type": "markdown",
   "id": "84c02a54-291f-421e-a043-810986fe8529",
   "metadata": {},
   "source": [
    "b.\n",
    "$$\n",
    "\\begin{pmatrix}\n",
    "2 & -3 \\\\\n",
    "3 & -1\n",
    "\\end{pmatrix}\n",
    "$$\n",
    "$$\n",
    "\\begin{pmatrix}\n",
    "1 & 5 & -4 \\\\\n",
    "-3 & 2 & 0\n",
    "\\end{pmatrix}\n",
    "$$\n"
   ]
  },
  {
   "cell_type": "code",
   "execution_count": 6,
   "id": "92410825-a8d1-42cd-b43e-f9f048aede38",
   "metadata": {},
   "outputs": [
    {
     "name": "stdout",
     "output_type": "stream",
     "text": [
      "\n",
      "Resultado de b:\n",
      "[11, 4, -8]\n",
      "[6, 13, -12]\n"
     ]
    }
   ],
   "source": [
    "A2 = [\n",
    "    [2, -3],\n",
    "    [3, -1]\n",
    "]\n",
    "\n",
    "B2 = [\n",
    "    [1, 5, -4],\n",
    "    [-3, 2, 0]\n",
    "]\n",
    "result2 = multiply_matrices(A2, B2)\n",
    "print(\"\\nResultado de b:\")\n",
    "for fila in result2:\n",
    "    print(fila)"
   ]
  },
  {
   "cell_type": "markdown",
   "id": "4209679a-143b-4e2f-8497-6f9dd9f02603",
   "metadata": {},
   "source": [
    "c. \n",
    "$$\n",
    "\\begin{pmatrix}\n",
    "2 & -3 & 1 \\\\\n",
    "4 & 3 & 0 \\\\\n",
    "5 & 2 & -4\n",
    "\\end{pmatrix}\n",
    "$$\n",
    "$$\n",
    "\\begin{pmatrix}\n",
    "0 & 1 & -2 \\\\\n",
    "1 & 0 & -1 \\\\\n",
    "2 & 3 & -2\n",
    "\\end{pmatrix}\n",
    "$$"
   ]
  },
  {
   "cell_type": "code",
   "execution_count": null,
   "id": "03667f12-8299-4810-8382-31b69088a2b8",
   "metadata": {},
   "outputs": [],
   "source": [
    "A3 = [\n",
    "    [2, -3, 1],\n",
    "    [4, 3, 0],\n",
    "    [5, 2, -4]\n",
    "]\n",
    "\n",
    "B3 = [\n",
    "    [0, 1, -2],\n",
    "    [1, 0, -1],\n",
    "    [2, 3, -2]\n",
    "]\n"
   ]
  },
  {
   "cell_type": "markdown",
   "id": "31b852fe-e9f5-4ffc-b520-0ddbdf2fc26a",
   "metadata": {},
   "source": [
    "d. \n",
    "$$\n",
    "\\begin{pmatrix}\n",
    "2 & 1 & 2 \\\\\n",
    "-2 & 3 & 0 \\\\\n",
    "2 & -1 & 3\n",
    "\\end{pmatrix}\n",
    "$$\n",
    "$$\n",
    "\\begin{pmatrix}\n",
    "1 & -2 \\\\\n",
    "-4 & 1 \\\\\n",
    "0 & 2\n",
    "\\end{pmatrix}\n",
    "$$"
   ]
  },
  {
   "cell_type": "code",
   "execution_count": 3,
   "id": "7c262b14-5f83-4ed1-9783-5beff78f2dab",
   "metadata": {},
   "outputs": [
    {
     "name": "stdout",
     "output_type": "stream",
     "text": [
      "\n",
      "Resultado de d:\n",
      "[-2, 1]\n",
      "[-14, 7]\n",
      "[6, 1]\n"
     ]
    }
   ],
   "source": [
    "A4 = [\n",
    "    [2, 1, 2],\n",
    "    [-2, 3, 0],\n",
    "    [2, -1, 3]\n",
    "]\n",
    "\n",
    "B4 = [\n",
    "    [1, -2],\n",
    "    [-4, 1],\n",
    "    [0, 2]\n",
    "]\n",
    "result4 = multiply_matrices(A4, B4)\n",
    "print(\"\\nResultado de d:\")\n",
    "for fila in result4:\n",
    "    print(fila)"
   ]
  },
  {
   "cell_type": "markdown",
   "id": "d36c95b4-ac9a-4522-a4fd-becbc7d4f746",
   "metadata": {},
   "source": [
    "## Pregunta 2\n",
    "**Determine cuáles de las siguientes matrices son no singulares y calcule la inversa de esas matrices:**"
   ]
  },
  {
   "cell_type": "markdown",
   "id": "b79b04d8-aac8-4a15-aefe-55ce420aeac2",
   "metadata": {},
   "source": [
    "a.\n",
    "$$\n",
    "\\begin{pmatrix}\n",
    "4 & 2 & 6 \\\\\n",
    "3 & 0 & 7 \\\\\n",
    "-2 & -1 & -3\n",
    "\\end{pmatrix}\n",
    "$$"
   ]
  },
  {
   "cell_type": "code",
   "execution_count": 6,
   "id": "62113146-13b3-41a9-94a9-63e533186c6b",
   "metadata": {},
   "outputs": [
    {
     "name": "stdout",
     "output_type": "stream",
     "text": [
      "Matriz A:\n",
      "  Determinante: 0.0\n",
      "  La matriz es singular y no tiene inversa.\n",
      "\n"
     ]
    }
   ],
   "source": [
    "import numpy as np\n",
    "\n",
    "A = np.array([\n",
    "    [4, 2, 6],\n",
    "    [3, 0, 7],\n",
    "    [-2, -1, -3]\n",
    "])\n",
    "\n",
    "det_A = np.linalg.det(A)\n",
    "if det_A != 0:\n",
    "    inv_A = np.linalg.inv(A)\n",
    "else:\n",
    "    inv_A = None\n",
    "\n",
    "print(f\"Matriz A:\")\n",
    "print(f\"  Determinante: {det_A}\")\n",
    "if inv_A is not None:\n",
    "    print(f\"  Inversa:\\n{inv_A}\\n\")\n",
    "else:\n",
    "    print(\"  La matriz es singular y no tiene inversa.\\n\")\n"
   ]
  },
  {
   "cell_type": "markdown",
   "id": "6c3b71af-b865-48ac-85ce-ab7521707b78",
   "metadata": {},
   "source": [
    "b.\n",
    "$$\n",
    "\\begin{pmatrix}\n",
    "1 & 2 & 0 \\\\\n",
    "2 & 1 & -1 \\\\\n",
    "3 & 1 & 1\n",
    "\\end{pmatrix}\n",
    "$$"
   ]
  },
  {
   "cell_type": "code",
   "execution_count": 7,
   "id": "eb666197-9040-4c6f-aca1-2b9e60e545ce",
   "metadata": {},
   "outputs": [
    {
     "name": "stdout",
     "output_type": "stream",
     "text": [
      "Matriz B:\n",
      "  Determinante: -8.000000000000002\n",
      "  Inversa:\n",
      "[[-0.25   0.25   0.25 ]\n",
      " [ 0.625 -0.125 -0.125]\n",
      " [ 0.125 -0.625  0.375]]\n",
      "\n"
     ]
    }
   ],
   "source": [
    "import numpy as np\n",
    "\n",
    "B = np.array([\n",
    "    [1, 2, 0],\n",
    "    [2, 1, -1],\n",
    "    [3, 1, 1]\n",
    "])\n",
    "\n",
    "det_B = np.linalg.det(B)\n",
    "if det_B != 0:\n",
    "    inv_B = np.linalg.inv(B)\n",
    "else:\n",
    "    inv_B = None\n",
    "\n",
    "print(f\"Matriz B:\")\n",
    "print(f\"  Determinante: {det_B}\")\n",
    "if inv_B is not None:\n",
    "    print(f\"  Inversa:\\n{inv_B}\\n\")\n",
    "else:\n",
    "    print(\"  La matriz es singular y no tiene inversa.\\n\")\n"
   ]
  },
  {
   "cell_type": "markdown",
   "id": "8beab18a-a520-4554-8a97-92bbc06882d2",
   "metadata": {},
   "source": [
    "c.\n",
    "$$\n",
    "\\begin{pmatrix}\n",
    "1 & 1 & -1 & 1 \\\\\n",
    "1 & 2 & -4 & -2 \\\\\n",
    "2 & 1 & 1 & 5 \\\\\n",
    "-1 & 0 & -1 & -4\n",
    "\\end{pmatrix}\n",
    "$$\n",
    "\n"
   ]
  },
  {
   "cell_type": "code",
   "execution_count": 8,
   "id": "c7d479ef-f949-48f7-877e-b14e47108892",
   "metadata": {},
   "outputs": [
    {
     "name": "stdout",
     "output_type": "stream",
     "text": [
      "Matriz C:\n",
      "  Determinante: 0.0\n",
      "  La matriz es singular y no tiene inversa.\n",
      "\n"
     ]
    }
   ],
   "source": [
    "import numpy as np\n",
    "\n",
    "C = np.array([\n",
    "    [1, 1, -1, 1],\n",
    "    [1, 2, -4, -2],\n",
    "    [2, 1, 1, 5],\n",
    "    [-1, 0, -2, -4]\n",
    "])\n",
    "\n",
    "det_C = np.linalg.det(C)\n",
    "if det_C != 0:\n",
    "    inv_C = np.linalg.inv(C)\n",
    "else:\n",
    "    inv_C = None\n",
    "\n",
    "print(f\"Matriz C:\")\n",
    "print(f\"  Determinante: {det_C}\")\n",
    "if inv_C is not None:\n",
    "    print(f\"  Inversa:\\n{inv_C}\\n\")\n",
    "else:\n",
    "    print(\"  La matriz es singular y no tiene inversa.\\n\")\n"
   ]
  },
  {
   "cell_type": "markdown",
   "id": "2e20d688-fbb6-4961-ba69-61e3497b4e2e",
   "metadata": {},
   "source": [
    "c.\n",
    "$$\n",
    "\\begin{pmatrix}\n",
    "4 & 0 & 0 & 0 \\\\\n",
    "6 & 7 & 0 & 0 \\\\\n",
    "9 & 11 & 1 & 0 \\\\\n",
    "5 & 4 & 1 & 1\n",
    "\\end{pmatrix}\n",
    "$$\n",
    "\n"
   ]
  },
  {
   "cell_type": "code",
   "execution_count": 9,
   "id": "a63c59a5-67fd-4407-a418-8baeb6b0b640",
   "metadata": {},
   "outputs": [
    {
     "name": "stdout",
     "output_type": "stream",
     "text": [
      "Matriz D:\n",
      "  Determinante: 28.00000000000001\n",
      "  Inversa:\n",
      "[[ 2.50000000e-01 -2.46716228e-17  0.00000000e+00  0.00000000e+00]\n",
      " [-2.14285714e-01  1.42857143e-01 -0.00000000e+00 -0.00000000e+00]\n",
      " [ 1.07142857e-01 -1.57142857e+00  1.00000000e+00 -0.00000000e+00]\n",
      " [-5.00000000e-01  1.00000000e+00 -1.00000000e+00  1.00000000e+00]]\n",
      "\n"
     ]
    }
   ],
   "source": [
    "import numpy as np\n",
    "\n",
    "D = np.array([\n",
    "    [4, 0, 0, 0],\n",
    "    [6, 7, 0, 0],\n",
    "    [9, 11, 1, 0],\n",
    "    [5, 4, 1, 1]\n",
    "])\n",
    "\n",
    "det_D = np.linalg.det(D)\n",
    "if det_D != 0:\n",
    "    inv_D = np.linalg.inv(D)\n",
    "else:\n",
    "    inv_D = None\n",
    "\n",
    "print(f\"Matriz D:\")\n",
    "print(f\"  Determinante: {det_D}\")\n",
    "if inv_D is not None:\n",
    "    print(f\"  Inversa:\\n{inv_D}\\n\")\n",
    "else:\n",
    "    print(\"  La matriz es singular y no tiene inversa.\\n\")\n"
   ]
  },
  {
   "cell_type": "markdown",
   "id": "8f8850d1-52a5-4cb2-a7c2-f2549a263ad7",
   "metadata": {},
   "source": [
    "## Pregunta 3\n",
    "**Resuelva los sistemas lineales 4 x 4 que tienen la misma matriz de coeficientes:**"
   ]
  },
  {
   "cell_type": "code",
   "execution_count": 11,
   "id": "c68db504-1450-4427-84b7-bd3402cac3da",
   "metadata": {},
   "outputs": [],
   "source": [
    "import numpy as np\n",
    "\n",
    "A = np.array([\n",
    "    [1, -1, 2, -1],\n",
    "    [1, 0, -1, 1],\n",
    "    [2, 1, 3, -4],\n",
    "    [0, -1, 1, -1]\n",
    "])\n",
    "\n",
    "b1 = np.array([6, 4, -2, 5])\n",
    "b2 = np.array([1, 1, 2, -1])"
   ]
  },
  {
   "cell_type": "markdown",
   "id": "dedbc984-67a9-4214-b050-37ac2bdb1682",
   "metadata": {},
   "source": [
    "a. $x_{1}-x_{2}+2x_{3}-x_{4}=6$  \n",
    "$x_{1}‎ ‎ ‎ -x_{3}+x_{4}=4$   \n",
    "$2x_{1}+x_{2}-3x_{3}-4x_{4}=-2$  \n",
    "$‎ ‎ ‎ ‎ -x_{2}+x_{3}-x_{4}=5$"
   ]
  },
  {
   "cell_type": "code",
   "execution_count": 13,
   "id": "8f306af5-5bb2-4bb9-bf9b-c80bbcc91b1e",
   "metadata": {},
   "outputs": [
    {
     "name": "stdout",
     "output_type": "stream",
     "text": [
      "Solución del primer sistema (x1, x2, x3, x4):\n",
      "[ 3. -6. -2. -1.]\n"
     ]
    }
   ],
   "source": [
    "x1 = np.linalg.solve(A, b1)\n",
    "print(\"Solución del primer sistema (x1, x2, x3, x4):\")\n",
    "print(x1)"
   ]
  },
  {
   "cell_type": "markdown",
   "id": "be1d9cb5-f923-4c88-956d-c174cfc76a86",
   "metadata": {},
   "source": [
    "b. $x_{1}-x_{2}+2x_{3}-x_{4}=1$  \n",
    "$x_{1}‎ ‎ ‎ -x_{3}+x_{4}=1$   \n",
    "$2x_{1}+x_{2}-3x_{3}-4x_{4}=2$  \n",
    "$‎ ‎ ‎ ‎ -x_{2}+x_{3}-x_{4}=1$"
   ]
  },
  {
   "cell_type": "code",
   "execution_count": 15,
   "id": "0b444e42-8dd4-4cfd-b92e-2652bafe496e",
   "metadata": {},
   "outputs": [
    {
     "name": "stdout",
     "output_type": "stream",
     "text": [
      "\n",
      "Solución del segundo sistema (x1, x2, x3, x4):\n",
      "[1. 1. 1. 1.]\n"
     ]
    }
   ],
   "source": [
    "x2 = np.linalg.solve(A, b2)\n",
    "print(\"\\nSolución del segundo sistema (x1, x2, x3, x4):\")\n",
    "print(x2)"
   ]
  },
  {
   "cell_type": "markdown",
   "id": "0161f09d-f2dc-454a-827e-59e4a5c35e91",
   "metadata": {},
   "source": [
    "## Pregunta 4\n",
    "**Encuentre los valores de A que hacen que la siguiente matriz sea singular**"
   ]
  },
  {
   "cell_type": "markdown",
   "id": "4ab13e82-54a8-4187-a0f3-7121e4f58fc2",
   "metadata": {},
   "source": [
    "$$A=$$ $$\n",
    "\\begin{pmatrix}\n",
    "1 & -1 & a \\\\\n",
    "2 & 2 & 1 \\\\\n",
    "0 & a & -3/2\n",
    "\\end{pmatrix}\n",
    "$$"
   ]
  },
  {
   "cell_type": "code",
   "execution_count": 16,
   "id": "3c43b1fc-8b62-4fd4-9354-cdea1baee6b7",
   "metadata": {},
   "outputs": [
    {
     "name": "stdout",
     "output_type": "stream",
     "text": [
      "Valores de alpha que hacen que la matriz A sea singular:\n",
      "[-1.50000000000000, 2.00000000000000]\n"
     ]
    }
   ],
   "source": [
    "import sympy as sp\n",
    "\n",
    "alpha = sp.symbols('alpha')\n",
    "\n",
    "A = sp.Matrix([\n",
    "    [1, -1, alpha],\n",
    "    [2, 2, 1],\n",
    "    [0, alpha, -3/2]\n",
    "])\n",
    "\n",
    "det_A = A.det()\n",
    "alpha_solutions = sp.solve(det_A, alpha)\n",
    "print(\"Valores de alpha que hacen que la matriz A sea singular:\")\n",
    "print(alpha_solutions)"
   ]
  },
  {
   "cell_type": "markdown",
   "id": "3109cd2b-fe94-4271-908a-ccedef91383f",
   "metadata": {},
   "source": [
    "## Pregunta 5\n",
    "**Resuelva los siguientes sistemas lineales:**"
   ]
  },
  {
   "cell_type": "markdown",
   "id": "1ecdcf4b-530c-4b78-9f5f-3cfa7a5ee8a3",
   "metadata": {},
   "source": [
    "![](ma1.jpg)"
   ]
  },
  {
   "cell_type": "code",
   "execution_count": 19,
   "id": "470df64a-ddeb-45fe-b891-d7b859e06f92",
   "metadata": {},
   "outputs": [
    {
     "name": "stdout",
     "output_type": "stream",
     "text": [
      "Solución del sistema a:\n",
      "[-2.13162821e-16  3.00000000e+00  3.00000000e+00]\n"
     ]
    }
   ],
   "source": [
    "import numpy as np\n",
    "from scipy.linalg import lu, lu_factor, lu_solve\n",
    "\n",
    "A1 = np.array([[1, 0, 0], [2, 1, 0], [-1, 0, 1]])\n",
    "B1 = np.array([[2, 3, -1], [0, -2, 1], [0, 0, 3]])\n",
    "C1 = np.array([2, -1, 1])\n",
    "\n",
    "P1, L1, U1 = lu(A1)\n",
    "B1_inv = np.linalg.inv(B1)\n",
    "A1_prime = np.dot(B1_inv, A1)\n",
    "lu1, piv1 = lu_factor(A1_prime)\n",
    "x1 = lu_solve((lu1, piv1), C1)\n",
    "\n",
    "print(\"Solución del sistema a:\")\n",
    "print(x1)"
   ]
  },
  {
   "cell_type": "markdown",
   "id": "ef355b11-442a-4c97-a5ba-72143472e6cc",
   "metadata": {},
   "source": [
    "![](ma2.jpg)"
   ]
  },
  {
   "cell_type": "code",
   "execution_count": 21,
   "id": "d3cdf3d0-c48b-44bc-ad3f-91a52d637a3a",
   "metadata": {},
   "outputs": [
    {
     "name": "stdout",
     "output_type": "stream",
     "text": [
      "Solución del sistema b:\n",
      "[ 1.  4. 11.]\n"
     ]
    }
   ],
   "source": [
    "A2 = np.array([[2, 0, 0], [-1, 1, 0], [3, 2, -1]])\n",
    "B2 = np.array([[1, 1, 1], [0, 1, 2], [0, 0, 1]])\n",
    "C2 = np.array([-1, 3, 0])\n",
    "\n",
    "P2, L2, U2 = lu(A2)\n",
    "B2_inv = np.linalg.inv(B2)\n",
    "A2_prime = np.dot(B2_inv, A2)\n",
    "lu2, piv2 = lu_factor(A2_prime)\n",
    "x2 = lu_solve((lu2, piv2), C2)\n",
    "\n",
    "print(\"Solución del sistema b:\")\n",
    "print(x2)"
   ]
  },
  {
   "cell_type": "markdown",
   "id": "d0252877-ad62-48b4-9b2a-2b2d75b7f13d",
   "metadata": {},
   "source": [
    "## Pregunta 6\n",
    "**Factorice las siguientes matrices en la descomposición *LU* mediante el algoritmo de factorización *LU* con $l_{ii} = 1$ para todas las $i$**"
   ]
  },
  {
   "cell_type": "markdown",
   "id": "ceb86faf-91f2-4127-9f4f-716e8b9388cc",
   "metadata": {},
   "source": [
    "a.\n",
    "$$\n",
    "\\begin{pmatrix}\n",
    "2 & -1 & 1 \\\\\n",
    "3 & 3 & 9 \\\\\n",
    "3 & 3 & 5\n",
    "\\end{pmatrix}\n",
    "$$"
   ]
  },
  {
   "cell_type": "code",
   "execution_count": 22,
   "id": "5e6bb78a-f649-469c-9273-90d9e1ae554f",
   "metadata": {},
   "outputs": [
    {
     "name": "stdout",
     "output_type": "stream",
     "text": [
      "Factorización LU de la matriz a:\n",
      "L:\n",
      "[[ 1.          0.          0.        ]\n",
      " [ 0.66666667  1.          0.        ]\n",
      " [ 1.         -0.          1.        ]]\n",
      "U:\n",
      "[[ 3.  3.  9.]\n",
      " [ 0. -3. -5.]\n",
      " [ 0.  0. -4.]]\n",
      "\n"
     ]
    }
   ],
   "source": [
    "import numpy as np\n",
    "from scipy.linalg import lu\n",
    "\n",
    "a = np.array([\n",
    "    [2, -1, 1],\n",
    "    [3, 3, 9],\n",
    "    [3, 3, 5]\n",
    "])\n",
    "\n",
    "P_a, L_a, U_a = lu(a)\n",
    "\n",
    "print(\"Factorización LU de la matriz a:\")\n",
    "print(\"L:\")\n",
    "print(L_a)\n",
    "print(\"U:\")\n",
    "print(U_a)\n",
    "print()\n"
   ]
  },
  {
   "cell_type": "markdown",
   "id": "932eb33c-549d-4d4e-bc90-6b7dfd6e92e7",
   "metadata": {},
   "source": [
    "b.\n",
    "$$\n",
    "\\begin{pmatrix}\n",
    "1.012 & -2.132 & 3.104 \\\\\n",
    "-2.132 & 4.096 & -7.013 \\\\\n",
    "3.104 & -7.013 & 0.014\n",
    "\\end{pmatrix}\n",
    "$$"
   ]
  },
  {
   "cell_type": "code",
   "execution_count": 23,
   "id": "12ddaa8f-5e0c-4d6a-bac4-1bd514e0147d",
   "metadata": {},
   "outputs": [
    {
     "name": "stdout",
     "output_type": "stream",
     "text": [
      "Factorización LU de la matriz b:\n",
      "L:\n",
      "[[ 1.          0.          0.        ]\n",
      " [-0.68685567  1.          0.        ]\n",
      " [ 0.32603093 -0.21424728  1.        ]]\n",
      "U:\n",
      "[[ 3.104      -7.013       0.014     ]\n",
      " [ 0.         -0.72091881 -7.00338402]\n",
      " [ 0.          0.          1.59897957]]\n",
      "\n"
     ]
    }
   ],
   "source": [
    "import numpy as np\n",
    "from scipy.linalg import lu\n",
    "\n",
    "b = np.array([\n",
    "    [1.012, -2.132, 3.104],\n",
    "    [-2.132, 4.096, -7.013],\n",
    "    [3.104, -7.013, 0.014]\n",
    "])\n",
    "\n",
    "P_b, L_b, U_b = lu(b)\n",
    "\n",
    "print(\"Factorización LU de la matriz b:\")\n",
    "print(\"L:\")\n",
    "print(L_b)\n",
    "print(\"U:\")\n",
    "print(U_b)\n",
    "print()\n"
   ]
  },
  {
   "cell_type": "markdown",
   "id": "d0fbd2e9-4f1e-4188-b2b8-444a32d96280",
   "metadata": {},
   "source": [
    "c.\n",
    "$$\n",
    "\\begin{pmatrix}\n",
    "2 & 0 & 0 & 0 \\\\\n",
    "1 & 1.5 & 0 & 0 \\\\\n",
    "0 & -3 & 0.5 & 0 \\\\\n",
    "2 & -2 & 1 & 1\n",
    "\\end{pmatrix}\n",
    "$$\n",
    "\n"
   ]
  },
  {
   "cell_type": "code",
   "execution_count": 24,
   "id": "d70690a6-74dc-41c1-8818-e62826c30008",
   "metadata": {},
   "outputs": [
    {
     "name": "stdout",
     "output_type": "stream",
     "text": [
      "Factorización LU de la matriz c:\n",
      "L:\n",
      "[[ 1.          0.          0.          0.        ]\n",
      " [ 0.          1.          0.          0.        ]\n",
      " [ 1.          0.66666667  1.          0.        ]\n",
      " [ 0.5        -0.5         0.375       1.        ]]\n",
      "U:\n",
      "[[ 2.          0.          0.          0.        ]\n",
      " [ 0.         -3.          0.5         0.        ]\n",
      " [ 0.          0.          0.66666667  1.        ]\n",
      " [ 0.          0.          0.         -0.375     ]]\n",
      "\n"
     ]
    }
   ],
   "source": [
    "import numpy as np\n",
    "from scipy.linalg import lu\n",
    "\n",
    "c = np.array([\n",
    "    [2, 0, 0, 0],\n",
    "    [1, 1.5, 0, 0],\n",
    "    [0, -3, 0.5, 0],\n",
    "    [2, -2, 1, 1]\n",
    "])\n",
    "\n",
    "P_c, L_c, U_c = lu(c)\n",
    "\n",
    "print(\"Factorización LU de la matriz c:\")\n",
    "print(\"L:\")\n",
    "print(L_c)\n",
    "print(\"U:\")\n",
    "print(U_c)\n",
    "print()\n"
   ]
  },
  {
   "cell_type": "markdown",
   "id": "e4274986-88d8-4952-ae23-a76c6daefe11",
   "metadata": {},
   "source": [
    "d.\n",
    "$$\n",
    "\\begin{pmatrix}\n",
    "2.1756 & 4.0231 & -2.1732 & 5.1967 \\\\\n",
    "-4.0231 & 6.0000 & 0 & 1.1973 \\\\\n",
    "-1.0000 & -5.2107 & 1.1111 & 0 \\\\\n",
    "6.0235 & 7.0000 & 0 & -4.1561\n",
    "\\end{pmatrix}\n",
    "$$\n",
    "\n"
   ]
  },
  {
   "cell_type": "code",
   "execution_count": 25,
   "id": "3d9a211c-901f-447d-815e-681c2d431d64",
   "metadata": {},
   "outputs": [
    {
     "name": "stdout",
     "output_type": "stream",
     "text": [
      "Factorización LU de la matriz d:\n",
      "L:\n",
      "[[ 1.          0.          0.          0.        ]\n",
      " [-0.66790072  1.          0.          0.        ]\n",
      " [ 0.36118536  0.14002434  1.          0.        ]\n",
      " [-0.16601644 -0.37924771 -0.5112737   1.        ]]\n",
      "U:\n",
      "[[ 6.0235      7.          0.         -4.1561    ]\n",
      " [ 0.         10.67530506  0.         -1.57856219]\n",
      " [ 0.          0.         -2.1732      6.91885959]\n",
      " [ 0.          0.          0.          2.24878393]]\n",
      "\n"
     ]
    }
   ],
   "source": [
    "import numpy as np\n",
    "from scipy.linalg import lu\n",
    "\n",
    "d = np.array([\n",
    "    [2.1756, 4.0231, -2.1732, 5.1967],\n",
    "    [-4.0231, 6, 0, 1.1973],\n",
    "    [-1, -5.2107, 1.1111, 0],\n",
    "    [6.0235, 7, 0, -4.1561]\n",
    "])\n",
    "\n",
    "P_d, L_d, U_d = lu(d)\n",
    "\n",
    "print(\"Factorización LU de la matriz d:\")\n",
    "print(\"L:\")\n",
    "print(L_d)\n",
    "print(\"U:\")\n",
    "print(U_d)\n",
    "print()\n"
   ]
  },
  {
   "cell_type": "markdown",
   "id": "231a4be2-3b57-4feb-9064-737a42aac2e7",
   "metadata": {},
   "source": [
    "## Pregunta 7\n",
    "**Modifique el algoritmo de eliminación gaussiana de tal forma que se pueda utilizar para resolver un sistema lineal usando la descomposición LU y, a continuación, resuelva los siguientes sistemas lineales.**"
   ]
  },
  {
   "cell_type": "markdown",
   "id": "82e6b1d2-db8c-4763-a62c-1e28c6994fc9",
   "metadata": {},
   "source": [
    "a. $2x_{1}-x_{2}+x_{3}=1$  \n",
    "$3x_{1}‎+3x_{2}+9x_{3}=0$   \n",
    "$3x_{1}+3x_{2}+5x_{3}=4$  "
   ]
  },
  {
   "cell_type": "code",
   "execution_count": 26,
   "id": "5bfd4b8b-4895-4f48-a077-6ee45f658ba9",
   "metadata": {},
   "outputs": [
    {
     "name": "stdout",
     "output_type": "stream",
     "text": [
      "Solución del sistema a: [ 1.  2. -1.]\n"
     ]
    }
   ],
   "source": [
    "import numpy as np\n",
    "\n",
    "def lu_decomposition(A):\n",
    "    A = A.astype(float)\n",
    "    n = len(A)\n",
    "    L = np.eye(n)\n",
    "    U = np.copy(A)\n",
    "    \n",
    "    for i in range(n):\n",
    "        for j in range(i + 1, n):\n",
    "            factor = U[j, i] / U[i, i]\n",
    "            U[j, i:] -= factor * U[i, i:]\n",
    "            L[j, i] = factor\n",
    "    \n",
    "    return L, U\n",
    "\n",
    "def solve_lu(L, U, b):\n",
    "    y = np.zeros_like(b, dtype=np.double)\n",
    "    for i in range(len(b)):\n",
    "        y[i] = b[i] - np.dot(L[i, :i], y[:i])\n",
    "    x = np.zeros_like(b, dtype=np.double)\n",
    "    for i in range(len(b) - 1, -1, -1):\n",
    "        x[i] = (y[i] - np.dot(U[i, i + 1:], x[i + 1:])) / U[i, i]\n",
    "    return x\n",
    "\n",
    "# Sistema a\n",
    "A_a = np.array([[2, -1, 1], [3, 3, 9], [3, 3, 5]])\n",
    "b_a = np.array([-1, 0, 4])\n",
    "\n",
    "L_a, U_a = lu_decomposition(A_a)\n",
    "x_a = solve_lu(L_a, U_a, b_a)\n",
    "\n",
    "print(f\"Solución del sistema a: {x_a}\")\n"
   ]
  },
  {
   "cell_type": "markdown",
   "id": "0dd1fb79-b717-4dc7-abde-d436ccadd338",
   "metadata": {},
   "source": [
    "b. $1.012x_{1}-2.132x_{2}+3.104x_{3}=1.984$  \n",
    "$-2.132x_{1}‎+4.096x_{2}-7.013x_{3}=-5.049$   \n",
    "$3.104x_{1}-7.013x_{2}+0.014x_{3}=-3.895$  "
   ]
  },
  {
   "cell_type": "code",
   "execution_count": 27,
   "id": "3a9debfd-fe49-48b7-94d0-f357d7f1ae42",
   "metadata": {},
   "outputs": [
    {
     "name": "stdout",
     "output_type": "stream",
     "text": [
      "Solución del sistema b: [1. 1. 1.]\n"
     ]
    }
   ],
   "source": [
    "import numpy as np\n",
    "\n",
    "# Funciones lu_decomposition y solve_lu definidas previamente\n",
    "\n",
    "# Sistema b\n",
    "A_b = np.array([[1.012, -2.132, 3.104], [-2.132, 4.096, -7.013], [3.104, -7.013, 0.014]])\n",
    "b_b = np.array([1.984, -5.049, -3.895])\n",
    "\n",
    "L_b, U_b = lu_decomposition(A_b)\n",
    "x_b = solve_lu(L_b, U_b, b_b)\n",
    "\n",
    "print(f\"Solución del sistema b: {x_b}\")\n"
   ]
  },
  {
   "cell_type": "markdown",
   "id": "42848e0a-2279-42ef-a097-d47233f3cb06",
   "metadata": {},
   "source": [
    "c. $2x_{1}‎ ‎ ‎ ‎ ‎ ‎ ‎ ‎ ‎ ‎ ‎ ‎ ‎ ‎ =3$   \n",
    "$x_{1}+1.5‎x_{2} ‎ ‎ ‎ ‎ ‎ ‎ ‎ ‎ =4.5$   \n",
    "$‎ ‎ ‎ ‎ ‎ ‎ -3x_{2}+0.5x_{3}‎ ‎ =-6.6$  \n",
    "$2x_{1}-2x_{2}+x_{3}+x_{4}=0.8$ "
   ]
  },
  {
   "cell_type": "code",
   "execution_count": 28,
   "id": "d06775fa-dddd-4bbe-b869-9be29cbc6c7c",
   "metadata": {},
   "outputs": [
    {
     "name": "stdout",
     "output_type": "stream",
     "text": [
      "Solución del sistema c: [ 1.5  2.  -1.2  3. ]\n"
     ]
    }
   ],
   "source": [
    "import numpy as np\n",
    "\n",
    "# Funciones lu_decomposition y solve_lu definidas previamente\n",
    "\n",
    "# Sistema c\n",
    "A_c = np.array([[2, 0, 0, 0], [1, 1.5, 0, 0], [0, -3, 0.5, 0], [2, -2, 1, 1]])\n",
    "b_c = np.array([3, 4.5, -6.6, 0.8])\n",
    "\n",
    "L_c, U_c = lu_decomposition(A_c)\n",
    "x_c = solve_lu(L_c, U_c, b_c)\n",
    "\n",
    "print(f\"Solución del sistema c: {x_c}\")\n"
   ]
  },
  {
   "cell_type": "markdown",
   "id": "c32571a6-b1d1-41e4-901f-9c5b3591e2ee",
   "metadata": {},
   "source": [
    "d. $2.1756x_{1}+4.0231x_{2}-2.1732x_{3}+5.1967x_{4}=17.102$  \n",
    "$-4.0231x_{1}‎+6.0000x_{2}‎ ‎ ‎ ‎ ‎ ‎ ‎ ‎ +1.1973x_{4}=-6.1593$   \n",
    "$-1.0000x_{1}‎-5.2107x_{2}+1.1111x_{3}‎ ‎ ‎ ‎ ‎ ‎ ‎ =3.0004$   \n",
    "$6.0235x_{1}‎+7.0000x_{2} ‎ ‎ ‎ ‎ ‎ ‎ ‎ -4.1561x_{4}=0.0000$   "
   ]
  },
  {
   "cell_type": "code",
   "execution_count": 30,
   "id": "2d72d066-43cf-4697-82ee-6ee01f58dff5",
   "metadata": {},
   "outputs": [
    {
     "name": "stdout",
     "output_type": "stream",
     "text": [
      "Solución del sistema d: [2.9398512  0.0706777  5.67773512 4.37981223]\n"
     ]
    }
   ],
   "source": [
    "import numpy as np\n",
    "\n",
    "# Funciones lu_decomposition y solve_lu definidas previamente\n",
    "\n",
    "# Sistema d\n",
    "A_d = np.array([[2.1756, 4.0231, -2.1732, 5.1967], [-4.0231, 6, 0, 1.1973], [-1, -5.2107, 1.1111, 0], [6.0235, 7, 0, -4.1561]])\n",
    "b_d = np.array([17.102, -6.1593, 3.0004, 0])\n",
    "\n",
    "L_d, U_d = lu_decomposition(A_d)\n",
    "x_d = solve_lu(L_d, U_d, b_d)\n",
    "\n",
    "print(f\"Solución del sistema d: {x_d}\")\n"
   ]
  },
  {
   "cell_type": "markdown",
   "id": "53bfb570-a1ba-4ca6-be18-358b29e2ee11",
   "metadata": {},
   "source": [
    "[Link del Repositorio de Github de la Tarea 10 - Joel Quilumba](https://github.com/iamjoel01/tarea10_metodos_numericos)"
   ]
  }
 ],
 "metadata": {
  "kernelspec": {
   "display_name": "Python 3 (ipykernel)",
   "language": "python",
   "name": "python3"
  },
  "language_info": {
   "codemirror_mode": {
    "name": "ipython",
    "version": 3
   },
   "file_extension": ".py",
   "mimetype": "text/x-python",
   "name": "python",
   "nbconvert_exporter": "python",
   "pygments_lexer": "ipython3",
   "version": "3.11.7"
  }
 },
 "nbformat": 4,
 "nbformat_minor": 5
}
